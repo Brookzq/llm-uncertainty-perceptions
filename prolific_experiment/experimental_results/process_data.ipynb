{
 "cells": [
  {
   "cell_type": "code",
   "execution_count": 1,
   "id": "a2309c8f-396d-47ba-a146-6b3fc9f2df93",
   "metadata": {},
   "outputs": [],
   "source": [
    "import pandas as pd\n",
    "import json"
   ]
  },
  {
   "cell_type": "code",
   "execution_count": 6,
   "id": "fde4c0d7-ccea-4de5-9a72-b6601ab7ff3b",
   "metadata": {},
   "outputs": [],
   "source": [
    "dat = json.load(open(\"db_out.json\"))['experiment2']['participantData']\n",
    "\n",
    "with open('../public/verifiable_all_data.json') as f:\n",
    "    txt = \"\".join(f.readlines())[7:]\n",
    "questions = json.loads(txt)"
   ]
  },
  {
   "cell_type": "code",
   "execution_count": 7,
   "id": "a4585e5c-b3af-40e9-b93c-7d300404c25b",
   "metadata": {},
   "outputs": [],
   "source": [
    "col_names = ['firebase_id','prolific_pid','session_id','sentence_set_id','total_time_taken','question_id',\n",
    "            'question_index','statement_id','statement_text','name','gender','uncertainty_expression','response','time_taken']\n",
    "results = []"
   ]
  },
  {
   "cell_type": "code",
   "execution_count": 8,
   "id": "c3a551f8-030e-476f-9689-2ce5287dcaf7",
   "metadata": {
    "tags": []
   },
   "outputs": [],
   "source": [
    "for p in dat.keys():\n",
    "    results_p = []\n",
    "    db_p = dat[p]\n",
    "    results_p.extend([\n",
    "        p, db_p['PROLIFIC_PID'], db_p['SESSION_ID'], db_p['sentenceSetId'], db_p['totalTimeTaken']*0.001\n",
    "    ])\n",
    "    for q in db_p['responses'].keys():\n",
    "        if q[:2] != \"p-\":    \n",
    "            results_pq = results_p.copy()\n",
    "            q_num = q.split('-')[1]\n",
    "            q_info = questions[db_p['sentenceSetId']][q_num]\n",
    "            p_info = db_p['responses'][q]\n",
    "            results_pq.extend([\n",
    "                q_num,\n",
    "                p_info['index'],\n",
    "                q_info['statement_id'],\n",
    "                q_info['prompt_example'],\n",
    "                q_info['name'],\n",
    "                q_info['gender'],\n",
    "                q_info['uncertainty_expression'],\n",
    "                int(p_info['response']),\n",
    "                p_info['timeTaken']*0.001\n",
    "            ])\n",
    "            results.append(results_pq)"
   ]
  },
  {
   "cell_type": "code",
   "execution_count": 9,
   "id": "c3109994-6ffc-4f87-971e-8a8eb3fd33f9",
   "metadata": {
    "tags": []
   },
   "outputs": [
    {
     "name": "stdout",
     "output_type": "stream",
     "text": [
      "99 participants included in dataframe\n"
     ]
    }
   ],
   "source": [
    "df = pd.DataFrame(results, columns=col_names)\n",
    "df = df.sort_values(by=['session_id','question_index']).reset_index(drop=True)\n",
    "print(\"{} participants included in dataframe\".format(len(df['session_id'].unique())))"
   ]
  },
  {
   "cell_type": "code",
   "execution_count": 11,
   "id": "494498fd-0026-47f3-88ea-8195c96fd654",
   "metadata": {},
   "outputs": [],
   "source": [
    "df.to_csv('humans_experiment2.csv', index=False)"
   ]
  },
  {
   "cell_type": "code",
   "execution_count": 16,
   "id": "18d18439-95d8-4141-86ce-7601aef6bd25",
   "metadata": {},
   "outputs": [],
   "source": [
    "col_names_s = ['firebase_id','uncertainty_expression','index','response']"
   ]
  },
  {
   "cell_type": "code",
   "execution_count": 17,
   "id": "6182deb9-5fb6-4b94-9310-c3d618c826b9",
   "metadata": {},
   "outputs": [],
   "source": [
    "sanity_checks = []\n",
    "for p in dat.keys():\n",
    "    results_p = []\n",
    "    db_p = dat[p]\n",
    "    results_p.append(p)\n",
    "    for q in ['p-'+str(i) for i in range(5)]:\n",
    "        results_pq = results_p.copy()\n",
    "        p_info = db_p['responses'][q]\n",
    "        results_pq.extend([\n",
    "            p_info['phrase'],\n",
    "            p_info['index'],\n",
    "            p_info['response'],\n",
    "        ])\n",
    "        sanity_checks.append(results_pq)"
   ]
  },
  {
   "cell_type": "code",
   "execution_count": 18,
   "id": "6d075adb-c5f5-4412-8b77-dab191c19e14",
   "metadata": {},
   "outputs": [],
   "source": [
    "pd.DataFrame(sanity_checks, columns=col_names_s).to_csv('sanity_checks.csv', index=False)"
   ]
  },
  {
   "cell_type": "code",
   "execution_count": 19,
   "id": "9c790143-fdbc-4106-aeb7-dcca3cb33b35",
   "metadata": {},
   "outputs": [],
   "source": [
    "df.to_csv('humans_experiment1.csv', index=False)"
   ]
  },
  {
   "cell_type": "code",
   "execution_count": null,
   "id": "7044c04a-f79e-4b46-b40e-16d5878ff898",
   "metadata": {},
   "outputs": [],
   "source": []
  }
 ],
 "metadata": {
  "kernelspec": {
   "display_name": "Python [conda env:ml] *",
   "language": "python",
   "name": "conda-env-ml-py"
  },
  "language_info": {
   "codemirror_mode": {
    "name": "ipython",
    "version": 3
   },
   "file_extension": ".py",
   "mimetype": "text/x-python",
   "name": "python",
   "nbconvert_exporter": "python",
   "pygments_lexer": "ipython3",
   "version": "3.8.15"
  }
 },
 "nbformat": 4,
 "nbformat_minor": 5
}
