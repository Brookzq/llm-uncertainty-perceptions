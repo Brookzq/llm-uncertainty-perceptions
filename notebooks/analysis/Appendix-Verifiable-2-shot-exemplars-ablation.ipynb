{
 "cells": [
  {
   "cell_type": "code",
   "execution_count": 1,
   "id": "27b34a8f-d97e-4fd3-98dc-4c50a6c33547",
   "metadata": {},
   "outputs": [],
   "source": [
    "import pandas as pd\n",
    "import numpy as np\n",
    "import glob\n",
    "\n",
    "from itertools import product\n",
    "from collections import defaultdict\n",
    "from metrics import assert_valid_prob, assert_same_exprs, compute_wasserstein_distance\n",
    "from utils_io import read_json\n",
    "from default_vars import UNCERTAINTY_EXPRESSIONS"
   ]
  },
  {
   "cell_type": "markdown",
   "id": "a15a2e93-a4f8-43c2-8272-7f0c85a56e60",
   "metadata": {},
   "source": [
    "In this notebook, we will compute the pairwise distance between the empirical distributions obtained by greedy histograms when using different exemplars in the prompt. \n",
    "\n",
    "- _distribution matching_ metrics: which include the `wasserstein` distance."
   ]
  },
  {
   "cell_type": "code",
   "execution_count": null,
   "id": "08ecf9c6-e1db-4122-afbd-2ee5261a9149",
   "metadata": {},
   "outputs": [],
   "source": []
  },
  {
   "cell_type": "code",
   "execution_count": 7,
   "id": "028502fb-9d56-4b5d-818f-e57ef503819f",
   "metadata": {},
   "outputs": [
    {
     "name": "stdout",
     "output_type": "stream",
     "text": [
      "Processing ../../results/probabilistic/verifiable-2-shot-exemplars-ablation/all/models-2shot-FF/gpt-3.5-turbo-0125_normalized.csv\n",
      "Processing ../../results/probabilistic/verifiable-2-shot-exemplars-ablation/all/models-2shot-FF/gpt-4-turbo-2024-04-09_normalized.csv\n",
      "Processing ../../results/probabilistic/verifiable-2-shot-exemplars-ablation/all/models-2shot-FF/gpt-4o-2024-05-13_normalized.csv\n",
      "Processing ../../results/probabilistic/verifiable-2-shot-exemplars-ablation/all/models-2shot-FT/gpt-3.5-turbo-0125_normalized.csv\n",
      "Processing ../../results/probabilistic/verifiable-2-shot-exemplars-ablation/all/models-2shot-FT/gpt-4-turbo-2024-04-09_normalized.csv\n",
      "Processing ../../results/probabilistic/verifiable-2-shot-exemplars-ablation/all/models-2shot-FT/gpt-4o-2024-05-13_normalized.csv\n",
      "Processing ../../results/probabilistic/verifiable-2-shot-exemplars-ablation/all/models-2shot-TF/gpt-3.5-turbo-0125_normalized.csv\n",
      "Processing ../../results/probabilistic/verifiable-2-shot-exemplars-ablation/all/models-2shot-TF/gpt-4-turbo-2024-04-09_normalized.csv\n",
      "Processing ../../results/probabilistic/verifiable-2-shot-exemplars-ablation/all/models-2shot-TF/gpt-4o-2024-05-13_normalized.csv\n",
      "Processing ../../results/probabilistic/verifiable-2-shot-exemplars-ablation/all/models-2shot-TT/gpt-3.5-turbo-0125_normalized.csv\n",
      "Processing ../../results/probabilistic/verifiable-2-shot-exemplars-ablation/all/models-2shot-TT/gpt-4-turbo-2024-04-09_normalized.csv\n",
      "Processing ../../results/probabilistic/verifiable-2-shot-exemplars-ablation/all/models-2shot-TT/gpt-4o-2024-05-13_normalized.csv\n"
     ]
    }
   ],
   "source": [
    "configs = (\"FF\", \"FT\", \"TF\", \"TT\")\n",
    "results_by_config = defaultdict(dict)\n",
    "for config in configs:\n",
    "    # model_filepaths = sorted(glob.glob(f\"../../results/greedy/verifiable-2-shot-exemplars-ablation/all/models-2shot-{config}/*_normalized.csv\"))  \n",
    "    model_filepaths = sorted(glob.glob(f\"../../results/probabilistic/verifiable-2-shot-exemplars-ablation/all/models-2shot-{config}/*_normalized.csv\"))  \n",
    "\n",
    "    for fp in model_filepaths:\n",
    "        print(\"Processing\", fp)\n",
    "        model_df = pd.read_csv(fp, index_col=0)\n",
    "        model_name = fp.rpartition(\"/\")[-1].rpartition(\"_normalized\")[0]\n",
    "        results_by_config[model_name][config] = model_df"
   ]
  },
  {
   "cell_type": "code",
   "execution_count": 8,
   "id": "a1e7373c-ebd6-463a-8824-116bde279d46",
   "metadata": {
    "scrolled": true
   },
   "outputs": [
    {
     "data": {
      "text/plain": [
       "config1\n",
       "FF    1.909902\n",
       "FT    3.011760\n",
       "TF    2.769266\n",
       "TT    1.916964\n",
       "dtype: float64"
      ]
     },
     "execution_count": 8,
     "metadata": {},
     "output_type": "execute_result"
    }
   ],
   "source": [
    "# Chatgpt: gpt-3.5-turbo-0125\n",
    "results_chatgpt = results_by_config[\"gpt-3.5-turbo-0125\"]\n",
    "results_chatgpt_ws = defaultdict(list)\n",
    "\n",
    "for k1, k2 in product(configs, configs):\n",
    "    df1, df2 = results_chatgpt[k1], results_chatgpt[k2]\n",
    "    d = compute_wasserstein_distance(df1, df2, uncertainty_expressions=UNCERTAINTY_EXPRESSIONS)\n",
    "    results_chatgpt_ws[\"config1\"].append(k1)\n",
    "    results_chatgpt_ws[\"config2\"].append(k2)\n",
    "    results_chatgpt_ws[\"mean ws\"].append(d.distance.median())\n",
    "\n",
    "results_chatgpt_ws = pd.DataFrame(results_chatgpt_ws)\n",
    "results_chatgpt_ws.pivot(columns=\"config2\", index=\"config1\", values=[\"mean ws\"]).mean(axis=1)"
   ]
  },
  {
   "cell_type": "code",
   "execution_count": 9,
   "id": "28f94b03-85b8-4f7f-82ab-b24e2ba36e46",
   "metadata": {},
   "outputs": [
    {
     "data": {
      "text/plain": [
       "config1\n",
       "FF    1.745450\n",
       "FT    1.359642\n",
       "TF    1.807702\n",
       "TT    1.392262\n",
       "dtype: float64"
      ]
     },
     "execution_count": 9,
     "metadata": {},
     "output_type": "execute_result"
    }
   ],
   "source": [
    "# Chatgpt: gpt-4o-2024-05-13\n",
    "results_gptfo = results_by_config[\"gpt-4o-2024-05-13\"]\n",
    "results_gptfo_ws = defaultdict(list)\n",
    "\n",
    "for k1, k2 in product(configs, configs):\n",
    "    df1, df2 = results_gptfo[k1], results_gptfo[k2]\n",
    "    d = compute_wasserstein_distance(df1, df2, uncertainty_expressions=UNCERTAINTY_EXPRESSIONS)\n",
    "    results_gptfo_ws[\"config1\"].append(k1)\n",
    "    results_gptfo_ws[\"config2\"].append(k2)\n",
    "    results_gptfo_ws[\"mean ws\"].append(d.distance.median())\n",
    "\n",
    "results_gptfo_ws = pd.DataFrame(results_gptfo_ws)\n",
    "results_gptfo_ws.pivot(columns=\"config2\", index=\"config1\", values=[\"mean ws\"]).mean(axis=1)"
   ]
  },
  {
   "cell_type": "code",
   "execution_count": 10,
   "id": "b5ab8151-8261-44ec-a52d-4b8850c9d08f",
   "metadata": {},
   "outputs": [
    {
     "data": {
      "text/plain": [
       "config1\n",
       "FF    1.529277\n",
       "FT    1.360700\n",
       "TF    1.329897\n",
       "TT    1.481472\n",
       "dtype: float64"
      ]
     },
     "execution_count": 10,
     "metadata": {},
     "output_type": "execute_result"
    }
   ],
   "source": [
    "# gpt4: gpt-4-turbo-2024-04-09\n",
    "results_gptf = results_by_config[\"gpt-4-turbo-2024-04-09\"]\n",
    "results_gptf_ws = defaultdict(list)\n",
    "\n",
    "for k1, k2 in product(configs, configs):\n",
    "    df1, df2 = results_gptf[k1], results_gptf[k2]\n",
    "    d = compute_wasserstein_distance(df1, df2, uncertainty_expressions=UNCERTAINTY_EXPRESSIONS)\n",
    "    results_gptf_ws[\"config1\"].append(k1)\n",
    "    results_gptf_ws[\"config2\"].append(k2)\n",
    "    results_gptf_ws[\"mean ws\"].append(d.distance.mean())\n",
    "\n",
    "results_gptf_ws = pd.DataFrame(results_gptf_ws)\n",
    "results_gptf_ws.pivot(columns=\"config2\", index=\"config1\", values=[\"mean ws\"]).mean(axis=1)"
   ]
  },
  {
   "cell_type": "code",
   "execution_count": null,
   "id": "66154253-1f77-488c-a824-041a77189de2",
   "metadata": {},
   "outputs": [],
   "source": []
  },
  {
   "cell_type": "code",
   "execution_count": null,
   "id": "cd174a38-bca0-4ffc-9a28-bf052a710449",
   "metadata": {},
   "outputs": [],
   "source": []
  }
 ],
 "metadata": {
  "kernelspec": {
   "display_name": "Python 3 (ipykernel)",
   "language": "python",
   "name": "python3"
  },
  "language_info": {
   "codemirror_mode": {
    "name": "ipython",
    "version": 3
   },
   "file_extension": ".py",
   "mimetype": "text/x-python",
   "name": "python",
   "nbconvert_exporter": "python",
   "pygments_lexer": "ipython3",
   "version": "3.12.3"
  }
 },
 "nbformat": 4,
 "nbformat_minor": 5
}
