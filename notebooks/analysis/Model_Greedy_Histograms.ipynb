{
 "cells": [
  {
   "cell_type": "code",
   "execution_count": 2,
   "id": "cac12fe1-c979-46f6-97de-b43b893fe904",
   "metadata": {},
   "outputs": [],
   "source": [
    "import pandas as pd\n",
    "import numpy as np\n",
    "\n",
    "import matplotlib.pyplot as plt\n",
    "import seaborn as sns\n",
    "\n",
    "\n",
    "from utils_plot import *"
   ]
  },
  {
   "cell_type": "markdown",
   "id": "1383be5f-b876-4a36-a20e-3f028ed3da6e",
   "metadata": {},
   "source": [
    "## Paper - Figure 4 - Stacked histograms (gpt-4o, olmo)"
   ]
  },
  {
   "cell_type": "code",
   "execution_count": null,
   "id": "780699ab-9ae4-42ac-b2d3-39bbbc1e3034",
   "metadata": {},
   "outputs": [],
   "source": []
  },
  {
   "cell_type": "markdown",
   "id": "9680fae2-53ba-402b-bd89-a31199a46a3c",
   "metadata": {},
   "source": [
    "##"
   ]
  },
  {
   "cell_type": "code",
   "execution_count": null,
   "id": "fcda2941-f3e0-43dc-a25d-9e463494e21f",
   "metadata": {},
   "outputs": [],
   "source": []
  }
 ],
 "metadata": {
  "kernelspec": {
   "display_name": "Python 3 (ipykernel)",
   "language": "python",
   "name": "python3"
  },
  "language_info": {
   "codemirror_mode": {
    "name": "ipython",
    "version": 3
   },
   "file_extension": ".py",
   "mimetype": "text/x-python",
   "name": "python",
   "nbconvert_exporter": "python",
   "pygments_lexer": "ipython3",
   "version": "3.12.3"
  }
 },
 "nbformat": 4,
 "nbformat_minor": 5
}
