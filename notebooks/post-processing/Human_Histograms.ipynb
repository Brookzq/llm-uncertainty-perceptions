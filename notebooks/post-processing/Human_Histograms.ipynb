{
 "cells": [
  {
   "cell_type": "code",
   "execution_count": 1,
   "id": "09c336df-76a9-4af9-a185-597053d3bb25",
   "metadata": {},
   "outputs": [],
   "source": [
    "import pandas as pd\n",
    "import numpy as np\n",
    "\n",
    "from utils_io import print_sep, read_json, persist_histograms\n",
    "from utils_greedy_histogram import create_histogram_humans\n",
    "from default_vars import BIN_CENTER, BIN_OFFSET, UNCERTAINTY_EXPRESSIONS\n",
    "\n",
    "hist_creation_kwargs = dict(\n",
    "    bin_center=BIN_CENTER, \n",
    "    bin_offset=BIN_OFFSET,\n",
    "    uncertainty_expressions=UNCERTAINTY_EXPRESSIONS,\n",
    "    number_col=\"response\",\n",
    "    unc_col=\"uncertainty_expression\",\n",
    ")"
   ]
  },
  {
   "cell_type": "markdown",
   "id": "6b613e97-bd90-4829-a210-6a0855551b76",
   "metadata": {},
   "source": [
    "In this notebook, we post-process the results obtained in the human experiments. The execution of the file will produce the following files:\n",
    "\n",
    "- `human+nv+filtered` and `human+nv+unfiltered`: corresponding to the greedy histograms derived from the filtered and non-filtered pool of participants, when annotarting the non-verifiable statements.\n",
    "- `human+v+filtered` and `human+v+unfiltered`: corresponding to the greedy histograms derived from the filtered and non-filtered pool of participants, when annotarting the verifiable statements."
   ]
  },
  {
   "cell_type": "code",
   "execution_count": 2,
   "id": "566ce779-c52b-4596-974e-5e0bb688a9e0",
   "metadata": {},
   "outputs": [],
   "source": [
    "OUTPUT_DIR = \"../../results\""
   ]
  },
  {
   "cell_type": "markdown",
   "id": "c349e8a4-d07c-48c7-b1c5-bd49db3597f3",
   "metadata": {},
   "source": [
    "## 1. Human + NV\n",
    "\n",
    "Human participants results for the 2-shot Non-verifiable statements."
   ]
  },
  {
   "cell_type": "code",
   "execution_count": 3,
   "id": "8e2a3f03-5fcd-4a4c-b34b-ed3346c9233f",
   "metadata": {},
   "outputs": [],
   "source": [
    "# human data is spread out into two files, the \"humans_experiment1\" and \"sanity_check\".\n",
    "# the former contains the annotation results of all participants, whereas the\n",
    "# latter contains the results of the sanity check we perform at the later stage.\n",
    "# \n",
    "# To create the histograms for the humans, we will first:\n",
    "# (1) read files\n",
    "# (2) filter out invalid human participants according to the criteria defined (`sanity_check`)\n",
    "# (3) compute the histograms\n",
    "humans = pd.read_csv('../../prolific_experiment/experimental_results/humans_experiment1_proc.csv', index_col=0)\n",
    "humans[\"statement_type\"] = humans[\"statement_id\"].apply(lambda x: x.split(\"_\")[0].strip())\n",
    "filtered_humans = humans[humans[\"include_participant\"]].copy()"
   ]
  },
  {
   "cell_type": "markdown",
   "id": "5cb8d2eb-527a-4c3d-b19b-9e40faf6c828",
   "metadata": {},
   "source": [
    "### 1.1. Population"
   ]
  },
  {
   "cell_type": "code",
   "execution_count": 4,
   "id": "8ba82da0-558a-4e29-88fd-e4e40500ceeb",
   "metadata": {},
   "outputs": [],
   "source": [
    "histograms = create_histogram_humans(humans, **hist_creation_kwargs)\n",
    "persist_histograms(*histograms, results_folder=f\"{OUTPUT_DIR}/greedy/all/non_verifiable/humans-2shot-unfiltered\")\n",
    "\n",
    "histograms = create_histogram_humans(filtered_humans, **hist_creation_kwargs)\n",
    "persist_histograms(*histograms, results_folder=f\"{OUTPUT_DIR}/greedy/all/non_verifiable/humans-2shot-filtered\")"
   ]
  },
  {
   "cell_type": "markdown",
   "id": "ed80494c-5c5b-4e3b-8656-0ca4b1a8bea2",
   "metadata": {},
   "source": [
    "### 1.2. By speaker gender"
   ]
  },
  {
   "cell_type": "code",
   "execution_count": 5,
   "id": "7052ef86-984e-4b95-b0ff-9c4c7ccab35d",
   "metadata": {},
   "outputs": [],
   "source": [
    "for gender in (\"male\", \"female\"):\n",
    "    df_subset = humans[humans[\"gender\"] == gender].copy()\n",
    "    assert len(df_subset) < len(humans)\n",
    "\n",
    "    histograms = create_histogram_humans(df_subset, **hist_creation_kwargs)\n",
    "    persist_histograms(*histograms, results_folder=f\"{OUTPUT_DIR}/greedy/by_gender/non_verifiable/humans-2shot-unfiltered\", prefix=gender)\n",
    "\n",
    "    df_subset_filtered = filtered_humans[filtered_humans[\"gender\"] == gender].copy()\n",
    "    assert len(df_subset_filtered) < len(filtered_humans)\n",
    "    histograms = create_histogram_humans(df_subset_filtered, **hist_creation_kwargs)\n",
    "    persist_histograms(*histograms, results_folder=f\"{OUTPUT_DIR}/greedy/by_gender/non_verifiable/humans-2shot-filtered\", prefix=gender)"
   ]
  },
  {
   "cell_type": "markdown",
   "id": "46296d07-dd37-4973-b267-096afc802a30",
   "metadata": {},
   "source": [
    "### 1.3. By statement type"
   ]
  },
  {
   "cell_type": "code",
   "execution_count": 6,
   "id": "efb2dae1-5efb-46d1-bf1a-7b9f9b73627e",
   "metadata": {},
   "outputs": [
    {
     "name": "stdout",
     "output_type": "stream",
     "text": [
      "['preference' 'imperfect' 'future' 'possession']\n"
     ]
    }
   ],
   "source": [
    "print(humans[\"statement_type\"].unique())"
   ]
  },
  {
   "cell_type": "code",
   "execution_count": 7,
   "id": "ae9a8198-a8b5-4f86-989d-58364e3037ee",
   "metadata": {},
   "outputs": [],
   "source": [
    "for st_type in humans[\"statement_type\"].unique():\n",
    "    df_subset = humans[humans[\"statement_type\"] == st_type]\n",
    "    assert len(df_subset) < len(humans)    \n",
    "    histograms = create_histogram_humans(df_subset, **hist_creation_kwargs)\n",
    "    persist_histograms(*histograms, results_folder=f\"{OUTPUT_DIR}/greedy/by_statement_type/non_verifiable/humans-2shot-unfiltered\", prefix=st_type)\n",
    "\n",
    "    df_subset_filtered = filtered_humans[filtered_humans[\"statement_type\"] == st_type]\n",
    "    assert len(df_subset_filtered) < len(filtered_humans)    \n",
    "    histograms = create_histogram_humans(df_subset_filtered, **hist_creation_kwargs)\n",
    "    persist_histograms(*histograms, results_folder=f\"{OUTPUT_DIR}/greedy/by_statement_type/non_verifiable/humans-2shot-filtered\", prefix=st_type)"
   ]
  },
  {
   "cell_type": "markdown",
   "id": "c22023a5-406c-49b5-9c2f-59f74a890d13",
   "metadata": {},
   "source": [
    "## 2. Human + V\n",
    "\n",
    "Human participants results for the 2-shot Verifiable statements."
   ]
  },
  {
   "cell_type": "code",
   "execution_count": 8,
   "id": "3354df0c-5bd1-4329-bfa9-4b23ed5e0578",
   "metadata": {},
   "outputs": [],
   "source": [
    "# human data is spread out into two files, the \"humans_experiment1\" and \"sanity_check\".\n",
    "# the former contains the annotation results of all participants, whereas the\n",
    "# latter contains the results of the sanity check we perform at the later stage.\n",
    "# \n",
    "# To create the histograms for the humans, we will first:\n",
    "# (1) read files\n",
    "# (2) filter out invalid human participants according to the criteria defined (`sanity_check`)\n",
    "# (3) compute the histograms\n",
    "humans_v = pd.read_csv('../../prolific_experiment/experimental_results/humans_experiment2_proc.csv', index_col=0)\n",
    "humans_v[\"statement_type\"] = humans_v[\"statement_id\"].apply(lambda x: x.split(\"_\")[0].strip())\n",
    "humans_v[\"statement_truth\"] = humans_v[\"statement_id\"].apply(lambda x: str(\"true\" in x).lower())\n",
    "\n",
    "filtered_humans_v = humans_v[humans_v[\"include_participant\"]].copy()"
   ]
  },
  {
   "cell_type": "markdown",
   "id": "923f02a2-5089-4e80-96b1-f951d840d202",
   "metadata": {},
   "source": [
    "### 2.1. Population"
   ]
  },
  {
   "cell_type": "code",
   "execution_count": 9,
   "id": "c376018c-03e8-4c7b-b6a3-ac9a49b51827",
   "metadata": {},
   "outputs": [],
   "source": [
    "histograms = create_histogram_humans(humans_v, **hist_creation_kwargs)\n",
    "persist_histograms(*histograms, results_folder=f\"{OUTPUT_DIR}/greedy/all/verifiable/humans-2shot-unfiltered\")\n",
    "\n",
    "histograms = create_histogram_humans(filtered_humans_v, **hist_creation_kwargs)\n",
    "persist_histograms(*histograms, results_folder=f\"{OUTPUT_DIR}/greedy/all/verifiable/humans-2shot-filtered\")"
   ]
  },
  {
   "cell_type": "markdown",
   "id": "d16edc77-ca8c-4eb5-a787-5680d1aecd2f",
   "metadata": {},
   "source": [
    "### 2.2. By speaker's gender"
   ]
  },
  {
   "cell_type": "code",
   "execution_count": 10,
   "id": "05f2896d-41b2-447d-b22d-abbe62620722",
   "metadata": {},
   "outputs": [],
   "source": [
    "for gender in (\"male\", \"female\"):\n",
    "    df_subset_v = humans_v[humans_v[\"gender\"] == gender].copy()\n",
    "    assert len(df_subset_v) < len(humans_v)\n",
    "\n",
    "    histograms = create_histogram_humans(df_subset_v, **hist_creation_kwargs)\n",
    "    persist_histograms(*histograms, results_folder=f\"{OUTPUT_DIR}/greedy/by_gender/verifiable/humans-2shot-unfiltered\", prefix=gender)\n",
    "\n",
    "    df_subset_filtered_v = filtered_humans_v[filtered_humans_v[\"gender\"] == gender].copy()\n",
    "    assert len(df_subset_filtered_v) < len(filtered_humans_v)\n",
    "    histograms = create_histogram_humans(df_subset_filtered_v, **hist_creation_kwargs)\n",
    "    persist_histograms(*histograms, results_folder=f\"{OUTPUT_DIR}/greedy/by_gender/verifiable/humans-2shot-filtered\", prefix=gender)"
   ]
  },
  {
   "cell_type": "markdown",
   "id": "9b21df89-2ff9-4269-8ae5-666aa8a2b567",
   "metadata": {},
   "source": [
    "### 2.3. By statement type"
   ]
  },
  {
   "cell_type": "code",
   "execution_count": 11,
   "id": "1c0f8dcb-2282-4097-a8e9-e4f0c05f0a92",
   "metadata": {},
   "outputs": [
    {
     "name": "stdout",
     "output_type": "stream",
     "text": [
      "['science' 'history' 'city']\n"
     ]
    }
   ],
   "source": [
    "print(humans_v[\"statement_type\"].unique())"
   ]
  },
  {
   "cell_type": "code",
   "execution_count": 12,
   "id": "e652a213-762d-4274-b726-57727bddae7a",
   "metadata": {},
   "outputs": [],
   "source": [
    "for st_type in humans_v[\"statement_type\"].unique():\n",
    "    df_subset_v = humans_v[humans_v[\"statement_type\"] == st_type]\n",
    "    assert len(df_subset_v) < len(humans_v)    \n",
    "    histograms = create_histogram_humans(df_subset_v, **hist_creation_kwargs)\n",
    "    persist_histograms(*histograms, results_folder=f\"{OUTPUT_DIR}/greedy/by_statement_type/verifiable/humans-2shot-unfiltered\", prefix=st_type)\n",
    "\n",
    "    df_subset_filtered_v = filtered_humans_v[filtered_humans_v[\"statement_type\"] == st_type]\n",
    "    assert len(df_subset_filtered_v) < len(filtered_humans_v)    \n",
    "    histograms = create_histogram_humans(df_subset_filtered_v, **hist_creation_kwargs)\n",
    "    persist_histograms(*histograms, results_folder=f\"{OUTPUT_DIR}/greedy/by_statement_type/verifiable/humans-2shot-filtered\", prefix=st_type)"
   ]
  },
  {
   "cell_type": "markdown",
   "id": "e63a7a6c-d2c0-4373-9444-feb79d4179b4",
   "metadata": {},
   "source": [
    "### 2.4. By Truth/Falsity of the statement"
   ]
  },
  {
   "cell_type": "code",
   "execution_count": 13,
   "id": "248a9ae6-ddc8-42a6-a98c-959a08b88b6c",
   "metadata": {},
   "outputs": [
    {
     "name": "stdout",
     "output_type": "stream",
     "text": [
      "['true' 'false']\n"
     ]
    }
   ],
   "source": [
    "print(humans_v[\"statement_truth\"].unique())"
   ]
  },
  {
   "cell_type": "code",
   "execution_count": 14,
   "id": "b0e80699-989d-4e46-91be-27a6a8a8e381",
   "metadata": {},
   "outputs": [],
   "source": [
    "for st_truth in humans_v[\"statement_truth\"].unique():\n",
    "    df_subset_v = humans_v[humans_v[\"statement_truth\"] == st_truth]\n",
    "    assert len(df_subset_v) < len(humans_v)    \n",
    "    histograms = create_histogram_humans(df_subset_v, **hist_creation_kwargs)\n",
    "    persist_histograms(*histograms, results_folder=f\"{OUTPUT_DIR}/greedy/by_statement_truth/verifiable/humans-2shot-unfiltered\", prefix=st_truth)\n",
    "\n",
    "    df_subset_filtered_v = filtered_humans_v[filtered_humans_v[\"statement_truth\"] == st_truth]\n",
    "    assert len(df_subset_filtered_v) < len(filtered_humans_v)    \n",
    "    histograms = create_histogram_humans(df_subset_filtered_v, **hist_creation_kwargs)\n",
    "    persist_histograms(*histograms, results_folder=f\"{OUTPUT_DIR}/greedy/by_statement_truth/verifiable/humans-2shot-filtered\", prefix=st_truth)"
   ]
  },
  {
   "cell_type": "code",
   "execution_count": null,
   "id": "91056bfc-0254-4450-b7b7-3152e9545337",
   "metadata": {},
   "outputs": [],
   "source": []
  },
  {
   "cell_type": "code",
   "execution_count": null,
   "id": "17bd420c-b760-49a8-a56a-6810f8a6051e",
   "metadata": {},
   "outputs": [],
   "source": []
  }
 ],
 "metadata": {
  "kernelspec": {
   "display_name": "Python 3 (ipykernel)",
   "language": "python",
   "name": "python3"
  },
  "language_info": {
   "codemirror_mode": {
    "name": "ipython",
    "version": 3
   },
   "file_extension": ".py",
   "mimetype": "text/x-python",
   "name": "python",
   "nbconvert_exporter": "python",
   "pygments_lexer": "ipython3",
   "version": "3.12.3"
  }
 },
 "nbformat": 4,
 "nbformat_minor": 5
}
