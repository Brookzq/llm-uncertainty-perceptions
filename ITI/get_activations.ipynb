{
 "cells": [
  {
   "cell_type": "code",
   "execution_count": 1,
   "id": "601e24b5-a753-4fed-8ba5-de00687c50d9",
   "metadata": {},
   "outputs": [
    {
     "name": "stderr",
     "output_type": "stream",
     "text": [
      "2025-01-04 16:47:14.439579: E external/local_xla/xla/stream_executor/cuda/cuda_fft.cc:477] Unable to register cuFFT factory: Attempting to register factory for plugin cuFFT when one has already been registered\n",
      "WARNING: All log messages before absl::InitializeLog() is called are written to STDERR\n",
      "E0000 00:00:1736009234.457515    4539 cuda_dnn.cc:8310] Unable to register cuDNN factory: Attempting to register factory for plugin cuDNN when one has already been registered\n",
      "E0000 00:00:1736009234.462972    4539 cuda_blas.cc:1418] Unable to register cuBLAS factory: Attempting to register factory for plugin cuBLAS when one has already been registered\n"
     ]
    }
   ],
   "source": [
    "import torch\n",
    "from tqdm import tqdm\n",
    "import numpy as np\n",
    "import sys\n",
    "sys.path.append('../')\n",
    "import argparse\n",
    "from transformers import AutoTokenizer, AutoModel, AutoModelForCausalLM\n",
    "from data import load_dataset\n",
    "from utils import get_llama_activations_bau"
   ]
  },
  {
   "cell_type": "code",
   "execution_count": 2,
   "id": "17b01dd2-55e4-4073-bc0e-be3b3465c04d",
   "metadata": {
    "scrolled": true
   },
   "outputs": [
    {
     "data": {
      "application/vnd.jupyter.widget-view+json": {
       "model_id": "70db8f6eb07342409513ec94e945bf2b",
       "version_major": 2,
       "version_minor": 0
      },
      "text/plain": [
       "Loading checkpoint shards:   0%|          | 0/4 [00:00<?, ?it/s]"
      ]
     },
     "metadata": {},
     "output_type": "display_data"
    }
   ],
   "source": [
    "HF_NAMES = {\n",
    "    'llama3.1_8B': 'meta-llama/Llama-3.1-8B'\n",
    "}\n",
    "\n",
    "model_name = HF_NAMES['llama3.1_8B']\n",
    "tokenizer = AutoTokenizer.from_pretrained(model_name)\n",
    "model = AutoModelForCausalLM.from_pretrained(model_name, device_map=\"auto\")\n",
    "device = 'cuda'"
   ]
  },
  {
   "cell_type": "code",
   "execution_count": 3,
   "id": "22100a2a-cdda-4ed2-a609-3154cfb17bc5",
   "metadata": {},
   "outputs": [
    {
     "name": "stderr",
     "output_type": "stream",
     "text": [
      "\n",
      "900it [00:00, 27906.01it/s]"
     ]
    },
    {
     "name": "stdout",
     "output_type": "stream",
     "text": [
      "200\n"
     ]
    },
    {
     "name": "stderr",
     "output_type": "stream",
     "text": [
      "\n"
     ]
    }
   ],
   "source": [
    "data_v = load_dataset('./data/verifiable.csv')\n",
    "data_nv = load_dataset('./data/non-verifiable.csv')\n",
    "data_v_100 = data_v[:100]\n",
    "data_nv_100 = data_nv[:100]\n",
    "data_all = data_v_100 + data_nv_100\n",
    "print(len(data_all))"
   ]
  },
  {
   "cell_type": "code",
   "execution_count": 4,
   "id": "902cf381-2e0d-4a32-862f-8e9cfe06a546",
   "metadata": {},
   "outputs": [
    {
     "name": "stdout",
     "output_type": "stream",
     "text": [
      "200\n"
     ]
    }
   ],
   "source": [
    "label_v = np.ones(len(data_v_100))\n",
    "label_nv = np.zeros(len(data_nv_100))\n",
    "label_all = np.concatenate((label_v, label_nv))\n",
    "print(len(label_all))"
   ]
  },
  {
   "cell_type": "code",
   "execution_count": 5,
   "id": "5a273586-0e7a-4289-8acf-b9693c4381fc",
   "metadata": {},
   "outputs": [],
   "source": [
    "all_layer_wise_activations = []\n",
    "all_head_wise_activations = []"
   ]
  },
  {
   "cell_type": "code",
   "execution_count": 6,
   "id": "3adfc136-ac09-4c23-812e-54a12881f2c2",
   "metadata": {},
   "outputs": [
    {
     "name": "stdout",
     "output_type": "stream",
     "text": [
      "Getting activations\n"
     ]
    },
    {
     "name": "stderr",
     "output_type": "stream",
     "text": [
      "\n",
      "00%|██████████| 200/200 [04:04<00:00,  1.22s/it]"
     ]
    }
   ],
   "source": [
    "print('Getting activations')\n",
    "for i, inp in enumerate(tqdm(data_all)):\n",
    "    torch.cuda.empty_cache()\n",
    "    prompt = tokenizer(inp, return_tensors='pt').input_ids\n",
    "    layer_wise_activations, head_wise_activations, _ = get_llama_activations_bau(model, prompt, device)\n",
    "    all_layer_wise_activations.append(layer_wise_activations[:,-1,:].copy())\n",
    "    all_head_wise_activations.append(head_wise_activations[:,-1,:].copy())"
   ]
  },
  {
   "cell_type": "code",
   "execution_count": 11,
   "id": "25038507-4cfc-432a-80ea-ad0485c80eb4",
   "metadata": {},
   "outputs": [
    {
     "name": "stdout",
     "output_type": "stream",
     "text": [
      "Saving labels\n"
     ]
    }
   ],
   "source": [
    "print('Saving labels')\n",
    "np.save(f'./features/llama3.1_8B_uncertainty_labels.npy', label_all)"
   ]
  },
  {
   "cell_type": "code",
   "execution_count": 12,
   "id": "d8a0a18f-cce1-47d6-9cd9-5169ec8c47b2",
   "metadata": {},
   "outputs": [
    {
     "name": "stdout",
     "output_type": "stream",
     "text": [
      "Saving layer wise activations\n"
     ]
    }
   ],
   "source": [
    "print('Saving layer wise activations')\n",
    "np.save(f'./features/llama3.1_8B_uncertainty_layer_wise.npy', all_layer_wise_activations)"
   ]
  },
  {
   "cell_type": "code",
   "execution_count": 13,
   "id": "865e1c32-8345-4d33-b515-cec6b0cae4e7",
   "metadata": {},
   "outputs": [
    {
     "name": "stdout",
     "output_type": "stream",
     "text": [
      "Saving head wise activations\n"
     ]
    }
   ],
   "source": [
    "print('Saving head wise activations')\n",
    "np.save(f'./features/llama3.1_8B_uncertainty_head_wise.npy', all_head_wise_activations)"
   ]
  },
  {
   "cell_type": "code",
   "execution_count": null,
   "id": "ae1650a6-a141-4cd9-ac11-61901be9d100",
   "metadata": {},
   "outputs": [],
   "source": []
  }
 ],
 "metadata": {
  "kernelspec": {
   "display_name": "Python 3 (ipykernel)",
   "language": "python",
   "name": "python3"
  },
  "language_info": {
   "codemirror_mode": {
    "name": "ipython",
    "version": 3
   },
   "file_extension": ".py",
   "mimetype": "text/x-python",
   "name": "python",
   "nbconvert_exporter": "python",
   "pygments_lexer": "ipython3",
   "version": "3.11.10"
  }
 },
 "nbformat": 4,
 "nbformat_minor": 5
}
