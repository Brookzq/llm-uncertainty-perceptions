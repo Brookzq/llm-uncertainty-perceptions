{
 "cells": [
  {
   "cell_type": "code",
   "execution_count": 1,
   "id": "ac860097-6f30-420f-975f-67707efbf5a7",
   "metadata": {},
   "outputs": [],
   "source": [
    "from transformers import AutoTokenizer, AutoModelForCausalLM\n",
    "import torch\n",
    "from tqdm import tqdm\n",
    "from baukit import Trace, TraceDict\n",
    "import json\n",
    "import os\n",
    "import numpy as np\n",
    "import re\n",
    "import csv\n",
    "from data import load_dataset\n",
    "from sklearn.model_selection import train_test_split\n",
    "from sklearn.ensemble import RandomForestClassifier\n",
    "from sklearn.linear_model import LogisticRegression\n",
    "from sklearn.metrics import accuracy_score, roc_auc_score, f1_score\n",
    "import matplotlib.pyplot as plt"
   ]
  },
  {
   "cell_type": "code",
   "execution_count": 2,
   "id": "a98fd7c6-947c-49d5-b612-f5cdc32f31b6",
   "metadata": {},
   "outputs": [],
   "source": [
    "model_name = \"meta-llama/Llama-3.1-8B\""
   ]
  },
  {
   "cell_type": "code",
   "execution_count": 3,
   "id": "e07d2171-fe15-4934-b199-255a8e144f69",
   "metadata": {},
   "outputs": [
    {
     "data": {
      "application/vnd.jupyter.widget-view+json": {
       "model_id": "158d54791abc4a5d9bdcbe543d983e65",
       "version_major": 2,
       "version_minor": 0
      },
      "text/plain": [
       "Loading checkpoint shards:   0%|          | 0/4 [00:00<?, ?it/s]"
      ]
     },
     "metadata": {},
     "output_type": "display_data"
    }
   ],
   "source": [
    "tokenizer = AutoTokenizer.from_pretrained(model_name)\n",
    "model = AutoModelForCausalLM.from_pretrained(model_name,device_map=\"cuda:0\",)\n",
    "# print(model.config.num_hidden_layers)"
   ]
  },
  {
   "cell_type": "code",
   "execution_count": 4,
   "id": "945d0375-c6ab-43bb-ab07-769f0bc78d2e",
   "metadata": {},
   "outputs": [
    {
     "name": "stderr",
     "output_type": "stream",
     "text": [
      "900it [00:00, 114317.36it/s]\n"
     ]
    }
   ],
   "source": [
    "data = load_dataset('./data/verifiable.csv')"
   ]
  },
  {
   "cell_type": "code",
   "execution_count": 46,
   "id": "906c7e81-0aed-4019-bb91-cc3ab7d398bf",
   "metadata": {},
   "outputs": [],
   "source": [
    "def get_activations(model, prompt, device): \n",
    "    HEADS = [f\"model.layers.{i}.self_attn\" for i in range(model.config.num_hidden_layers)]\n",
    "    MLPS = [f\"model.layers.{i}.mlp\" for i in range(model.config.num_hidden_layers)]\n",
    "\n",
    "    with torch.no_grad():\n",
    "        prompt = prompt.to(\"cuda\")\n",
    "        with TraceDict(model, HEADS+MLPS) as ret:\n",
    "        # with TraceDict(model, HEADS+MLPS, retain_input=True) as ret:\n",
    "            output = model(prompt)\n",
    "        # hidden_states = output.hidden_states\n",
    "        # hidden_states = torch.stack(hidden_states, dim = 0).squeeze()\n",
    "        # hidden_states = hidden_states.detach().cpu().numpy()\n",
    "        head_wise_hidden_states = [ret[head].output.squeeze().detach().cpu() for head in HEADS]\n",
    "        head_wise_hidden_states = torch.stack(head_wise_hidden_states, dim = 0).squeeze().numpy()\n",
    "        mlp_wise_hidden_states = [ret[mlp].output.squeeze().detach().cpu() for mlp in MLPS]\n",
    "        mlp_wise_hidden_states = torch.stack(mlp_wise_hidden_states, dim = 0).squeeze().numpy()\n",
    "\n",
    "    return head_wise_hidden_states, mlp_wise_hidden_states"
   ]
  },
  {
   "cell_type": "code",
   "execution_count": 47,
   "id": "c89b8a57-9d53-47c6-8c2a-6b4d9ffdca35",
   "metadata": {
    "scrolled": true
   },
   "outputs": [
    {
     "name": "stderr",
     "output_type": "stream",
     "text": [
      "  0%|          | 0/900 [00:00<?, ?it/s]\n"
     ]
    },
    {
     "ename": "AttributeError",
     "evalue": "'tuple' object has no attribute 'squeeze'",
     "output_type": "error",
     "traceback": [
      "\u001b[0;31m---------------------------------------------------------------------------\u001b[0m",
      "\u001b[0;31mAttributeError\u001b[0m                            Traceback (most recent call last)",
      "Cell \u001b[0;32mIn[47], line 3\u001b[0m\n\u001b[1;32m      1\u001b[0m \u001b[38;5;28;01mfor\u001b[39;00m prompt \u001b[38;5;129;01min\u001b[39;00m tqdm(data):\n\u001b[1;32m      2\u001b[0m     input_ids \u001b[38;5;241m=\u001b[39m tokenizer(prompt, return_tensors\u001b[38;5;241m=\u001b[39m\u001b[38;5;124m\"\u001b[39m\u001b[38;5;124mpt\u001b[39m\u001b[38;5;124m\"\u001b[39m)\u001b[38;5;241m.\u001b[39minput_ids\n\u001b[0;32m----> 3\u001b[0m     head_wise_hidden_states, mlp_wise_hidden_states \u001b[38;5;241m=\u001b[39m \u001b[43mget_activations\u001b[49m\u001b[43m(\u001b[49m\u001b[43mmodel\u001b[49m\u001b[43m,\u001b[49m\u001b[43m \u001b[49m\u001b[43minput_ids\u001b[49m\u001b[43m,\u001b[49m\u001b[43m \u001b[49m\u001b[38;5;124;43m\"\u001b[39;49m\u001b[38;5;124;43mcuda\u001b[39;49m\u001b[38;5;124;43m\"\u001b[39;49m\u001b[43m)\u001b[49m\n",
      "Cell \u001b[0;32mIn[46], line 13\u001b[0m, in \u001b[0;36mget_activations\u001b[0;34m(model, prompt, device)\u001b[0m\n\u001b[1;32m      9\u001b[0m     output \u001b[38;5;241m=\u001b[39m model(prompt)\n\u001b[1;32m     10\u001b[0m \u001b[38;5;66;03m# hidden_states = output.hidden_states\u001b[39;00m\n\u001b[1;32m     11\u001b[0m \u001b[38;5;66;03m# hidden_states = torch.stack(hidden_states, dim = 0).squeeze()\u001b[39;00m\n\u001b[1;32m     12\u001b[0m \u001b[38;5;66;03m# hidden_states = hidden_states.detach().cpu().numpy()\u001b[39;00m\n\u001b[0;32m---> 13\u001b[0m head_wise_hidden_states \u001b[38;5;241m=\u001b[39m [ret[head]\u001b[38;5;241m.\u001b[39moutput\u001b[38;5;241m.\u001b[39msqueeze()\u001b[38;5;241m.\u001b[39mdetach()\u001b[38;5;241m.\u001b[39mcpu() \u001b[38;5;28;01mfor\u001b[39;00m head \u001b[38;5;129;01min\u001b[39;00m HEADS]\n\u001b[1;32m     14\u001b[0m head_wise_hidden_states \u001b[38;5;241m=\u001b[39m torch\u001b[38;5;241m.\u001b[39mstack(head_wise_hidden_states, dim \u001b[38;5;241m=\u001b[39m \u001b[38;5;241m0\u001b[39m)\u001b[38;5;241m.\u001b[39msqueeze()\u001b[38;5;241m.\u001b[39mnumpy()\n\u001b[1;32m     15\u001b[0m mlp_wise_hidden_states \u001b[38;5;241m=\u001b[39m [ret[mlp]\u001b[38;5;241m.\u001b[39moutput\u001b[38;5;241m.\u001b[39msqueeze()\u001b[38;5;241m.\u001b[39mdetach()\u001b[38;5;241m.\u001b[39mcpu() \u001b[38;5;28;01mfor\u001b[39;00m mlp \u001b[38;5;129;01min\u001b[39;00m MLPS]\n",
      "Cell \u001b[0;32mIn[46], line 13\u001b[0m, in \u001b[0;36m<listcomp>\u001b[0;34m(.0)\u001b[0m\n\u001b[1;32m      9\u001b[0m     output \u001b[38;5;241m=\u001b[39m model(prompt)\n\u001b[1;32m     10\u001b[0m \u001b[38;5;66;03m# hidden_states = output.hidden_states\u001b[39;00m\n\u001b[1;32m     11\u001b[0m \u001b[38;5;66;03m# hidden_states = torch.stack(hidden_states, dim = 0).squeeze()\u001b[39;00m\n\u001b[1;32m     12\u001b[0m \u001b[38;5;66;03m# hidden_states = hidden_states.detach().cpu().numpy()\u001b[39;00m\n\u001b[0;32m---> 13\u001b[0m head_wise_hidden_states \u001b[38;5;241m=\u001b[39m [\u001b[43mret\u001b[49m\u001b[43m[\u001b[49m\u001b[43mhead\u001b[49m\u001b[43m]\u001b[49m\u001b[38;5;241;43m.\u001b[39;49m\u001b[43moutput\u001b[49m\u001b[38;5;241;43m.\u001b[39;49m\u001b[43msqueeze\u001b[49m()\u001b[38;5;241m.\u001b[39mdetach()\u001b[38;5;241m.\u001b[39mcpu() \u001b[38;5;28;01mfor\u001b[39;00m head \u001b[38;5;129;01min\u001b[39;00m HEADS]\n\u001b[1;32m     14\u001b[0m head_wise_hidden_states \u001b[38;5;241m=\u001b[39m torch\u001b[38;5;241m.\u001b[39mstack(head_wise_hidden_states, dim \u001b[38;5;241m=\u001b[39m \u001b[38;5;241m0\u001b[39m)\u001b[38;5;241m.\u001b[39msqueeze()\u001b[38;5;241m.\u001b[39mnumpy()\n\u001b[1;32m     15\u001b[0m mlp_wise_hidden_states \u001b[38;5;241m=\u001b[39m [ret[mlp]\u001b[38;5;241m.\u001b[39moutput\u001b[38;5;241m.\u001b[39msqueeze()\u001b[38;5;241m.\u001b[39mdetach()\u001b[38;5;241m.\u001b[39mcpu() \u001b[38;5;28;01mfor\u001b[39;00m mlp \u001b[38;5;129;01min\u001b[39;00m MLPS]\n",
      "\u001b[0;31mAttributeError\u001b[0m: 'tuple' object has no attribute 'squeeze'"
     ]
    }
   ],
   "source": [
    "for prompt in tqdm(data):\n",
    "    input_ids = tokenizer(prompt, return_tensors=\"pt\").input_ids\n",
    "    head_wise_hidden_states, mlp_wise_hidden_states = get_activations(model, input_ids, \"cuda\")"
   ]
  },
  {
   "cell_type": "code",
   "execution_count": 26,
   "id": "737f928c-9344-4f8d-8f0c-322c93580d81",
   "metadata": {
    "scrolled": true
   },
   "outputs": [
    {
     "name": "stdout",
     "output_type": "stream",
     "text": [
      "tensor([[128000,    198,    644,    420,   9526,     11,    499,    690,    387,\n",
      "           6982,   1495,  42852,    459,   3927,    753,  21463,    922,    264,\n",
      "           5224,     13,   1472,    690,   1243,    387,   4691,    311,  11913,\n",
      "             11,    304,    701,   9647,     11,    279,   8333,    315,    430,\n",
      "           3927,    753,  16801,     13,   2057,    656,    779,     11,    499,\n",
      "            690,   3493,    264,  19463,    320,  14107,    291,    439,    264,\n",
      "          11668,      8,   1405,    512,     12,    578,   1396,    220,     15,\n",
      "          15151,    430,    279,   3927,  13919,    449,  44743,    430,    279,\n",
      "           5224,    374,    905,    627,     12,    578,   1396,    220,   1041,\n",
      "          15151,    430,    279,   3927,  13919,    449,  44743,    430,    279,\n",
      "           5224,    374,    837,    382,   2675,    690,    387,   6982,   1403,\n",
      "           3187,   3488,    323,   2077,  13840,   3770,    311,  11537,    553,\n",
      "            499,    449,    279,   9526,   6642,     13,   4740,    279,  10507,\n",
      "             11,    499,    690,    387,   4691,    311,   4320,    264,    502,\n",
      "           3488,    382,    567,  13688,  16225,    220,     16,    198,  85664,\n",
      "             25,    330,     43,    685,  13919,    433,    753,   7701,  17821,\n",
      "            430,   1561,   4356,    374,   3967,    439,    279,   6295,  22725,\n",
      "           2266,  14924,     25,  40665,    264,   1396,   1990,    220,     15,\n",
      "            323,    220,   1041,    430,  27053,     11,    505,  50031,    753,\n",
      "          13356,     11,    279,  19463,    320,  14107,    291,    439,    264,\n",
      "          11668,      8,    430,   1561,   4356,    374,   3967,    439,    279,\n",
      "           6295,  22725,    627,     12,    220,     15,  15151,  50031,  13919,\n",
      "           1070,    374,    264,    220,     15,      4,   6140,    430,   1561,\n",
      "           4356,    374,   3967,    439,    279,   6295,  22725,    627,     12,\n",
      "            220,   1041,  15151,  50031,  13919,   1070,    374,    264,    220,\n",
      "           1041,      4,   6140,    430,   1561,   4356,    374,   3967,    439,\n",
      "            279,   6295,  22725,    382,  25017,    279,   4320,    505,    279,\n",
      "           2768,   2671,    512,     15,     11,    220,     20,     11,    220,\n",
      "            605,     11,    220,    868,     11,    220,    508,     11,    220,\n",
      "            914,     11,    220,    966,     11,    220,   1758,     11,    220,\n",
      "           1272,     11,    220,   1774,     11,    220,   1135,     11,    220,\n",
      "           2131,     11,    220,   1399,     11,    220,   2397,     11,    220,\n",
      "           2031,     11,    220,   2075,     11,    220,   1490,     11,    220,\n",
      "           5313,     11,    220,   1954,     11,    220,   2721,     11,    220,\n",
      "           1041,    198,  34192,   4320,     25,    220,    605,    271,    567,\n",
      "          13688,  16225,    220,     17,    198,  85664,     25,    330,     45,\n",
      "          14308,  13919,    433,    753,  75699,    430,    279,  24379,  11841,\n",
      "            311,    279,   7160,    374,  44662,   2266,  14924,     25,  40665,\n",
      "            264,   1396,   1990,    220,     15,    323,    220,   1041,    430,\n",
      "          27053,     11,    505,  37837,    753,  13356,     11,    279,  19463,\n",
      "            320,  14107,    291,    439,    264,  11668,      8,    430,    279,\n",
      "          24379,  11841,    311,    279,   7160,    374,  44662,    627,     12,\n",
      "            220,     15,  15151,  37837,  13919,   1070,    374,    264,    220,\n",
      "             15,      4,   6140,    430,    279,  24379,  11841,    311,    279,\n",
      "           7160,    374,  44662,    627,     12,    220,   1041,  15151,  37837,\n",
      "          13919,   1070,    374,    264,    220,   1041,      4,   6140,    430,\n",
      "            279,  24379,  11841,    311,    279,   7160,    374,  44662,    382,\n",
      "          25017,    279,   4320,    505,    279,   2768,   2671,    512,     15,\n",
      "             11,    220,     20,     11,    220,    605,     11,    220,    868,\n",
      "             11,    220,    508,     11,    220,    914,     11,    220,    966,\n",
      "             11,    220,   1758,     11,    220,   1272,     11,    220,   1774,\n",
      "             11,    220,   1135,     11,    220,   2131,     11,    220,   1399,\n",
      "             11,    220,   2397,     11,    220,   2031,     11,    220,   2075,\n",
      "             11,    220,   1490,     11,    220,   5313,     11,    220,   1954,\n",
      "             11,    220,   2721,     11,    220,   1041,    198,  34192,   4320,\n",
      "             25,    220,    914,    271,    567,  16225,    198,  22818,    279,\n",
      "          10507,   1603,     11,   4320,    279,   2768,   3488,    555,   4477,\n",
      "            264,   3254,   1396,    439,    279,   4320,    382,  85664,     25,\n",
      "            330,  86484,  13919,   6295,   7505,    374,   7559,    304,   7295,\n",
      "           2266,  14924,     25,  40665,    264,   1396,   1990,    220,     15,\n",
      "            323,    220,   1041,    430,  27053,     11,    505,  35281,    596,\n",
      "          13356,     11,    279,  19463,    320,  14107,    291,    439,    264,\n",
      "          11668,      8,    430,   6295,   7505,    374,   7559,    304,   7295,\n",
      "            627,     12,    220,     15,  15151,  35281,  13919,   1070,    374,\n",
      "            264,    220,     15,      4,   6140,    430,   6295,   7505,    374,\n",
      "           7559,    304,   7295,    627,     12,    220,   1041,  15151,  35281,\n",
      "          13919,   1070,    374,    264,    220,   1041,      4,   6140,    430,\n",
      "           6295,   7505,    374,   7559,    304,   7295,    382,  25017,    279,\n",
      "           4320,    505,    279,   2768,   2671,    512,     15,     11,    220,\n",
      "             20,     11,    220,    605,     11,    220,    868,     11,    220,\n",
      "            508,     11,    220,    914,     11,    220,    966,     11,    220,\n",
      "           1758,     11,    220,   1272,     11,    220,   1774,     11,    220,\n",
      "           1135,     11,    220,   2131,     11,    220,   1399,     11,    220,\n",
      "           2397,     11,    220,   2031,     11,    220,   2075,     11,    220,\n",
      "           1490,     11,    220,   5313,     11,    220,   1954,     11,    220,\n",
      "           2721,     11,    220,   1041,    198,  34192,   4320,     25,    220]])\n"
     ]
    }
   ],
   "source": [
    "inp = data[0]\n",
    "input_ids = tokenizer(inp, return_tensors=\"pt\").input_ids\n",
    "print(input_ids)"
   ]
  },
  {
   "cell_type": "code",
   "execution_count": 57,
   "id": "a6aead75-02e6-4778-849d-b085bd8c21c4",
   "metadata": {},
   "outputs": [],
   "source": [
    "with torch.no_grad():\n",
    "    # with Trace(model, \"model.layers.0.self_attn\") as ret:\n",
    "    with Trace(model, \"model.layers.0.post_attention_layernorm\") as ret:\n",
    "        input_ids = input_ids.to(\"cuda\")\n",
    "        _ = model(input_ids)\n",
    "        representation = ret.output"
   ]
  },
  {
   "cell_type": "code",
   "execution_count": 58,
   "id": "a57ff30a-3b89-4089-a6f1-60941e8e4cda",
   "metadata": {},
   "outputs": [
    {
     "name": "stdout",
     "output_type": "stream",
     "text": [
      "tensor([[[ 0.0495, -0.0614,  0.0057,  ...,  0.1246, -0.0184,  0.0073],\n",
      "         [ 0.0758, -0.0850,  0.0367,  ...,  0.0087, -0.0362, -0.0258],\n",
      "         [-0.0308, -0.0491, -0.0938,  ..., -0.0557, -0.0051,  0.0919],\n",
      "         ...,\n",
      "         [-0.0371,  0.1462, -0.0392,  ...,  0.0675,  0.1407, -0.1293],\n",
      "         [ 0.0452,  0.0303,  0.0190,  ...,  0.1429,  0.0226,  0.0727],\n",
      "         [ 0.0288,  0.0511, -0.0173,  ..., -0.1523,  0.0080, -0.0484]]],\n",
      "       device='cuda:0')\n"
     ]
    }
   ],
   "source": [
    "print(representation)"
   ]
  },
  {
   "cell_type": "code",
   "execution_count": 59,
   "id": "b6f992e3-69fa-4ef4-bb82-026388f8cd9c",
   "metadata": {},
   "outputs": [
    {
     "name": "stdout",
     "output_type": "stream",
     "text": [
      "Tensor shape: torch.Size([684, 4096])\n"
     ]
    }
   ],
   "source": [
    "# activations 是你的 Tensor\n",
    "tensor_data = representation[0]  # 提取 Tensor 数据部分\n",
    "print(\"Tensor shape:\", tensor_data.shape)"
   ]
  },
  {
   "cell_type": "code",
   "execution_count": 60,
   "id": "7ea8335b-67d1-4b33-8149-b7928ac1e203",
   "metadata": {},
   "outputs": [],
   "source": [
    "representation_V = ret.output[0]"
   ]
  },
  {
   "cell_type": "code",
   "execution_count": 61,
   "id": "9e5a29a7-d90c-4433-b198-d0bfa67e200c",
   "metadata": {},
   "outputs": [
    {
     "name": "stdout",
     "output_type": "stream",
     "text": [
      "tensor([[ 0.0495, -0.0614,  0.0057,  ...,  0.1246, -0.0184,  0.0073],\n",
      "        [ 0.0758, -0.0850,  0.0367,  ...,  0.0087, -0.0362, -0.0258],\n",
      "        [-0.0308, -0.0491, -0.0938,  ..., -0.0557, -0.0051,  0.0919],\n",
      "        ...,\n",
      "        [-0.0371,  0.1462, -0.0392,  ...,  0.0675,  0.1407, -0.1293],\n",
      "        [ 0.0452,  0.0303,  0.0190,  ...,  0.1429,  0.0226,  0.0727],\n",
      "        [ 0.0288,  0.0511, -0.0173,  ..., -0.1523,  0.0080, -0.0484]],\n",
      "       device='cuda:0')\n"
     ]
    }
   ],
   "source": [
    "print(representation_V)"
   ]
  },
  {
   "cell_type": "code",
   "execution_count": 62,
   "id": "43a728f3-459e-45b5-9e99-5e2c133d38d4",
   "metadata": {},
   "outputs": [
    {
     "name": "stdout",
     "output_type": "stream",
     "text": [
      "Tensor shape: torch.Size([4096])\n"
     ]
    }
   ],
   "source": [
    "tensor_data = representation_V[0]  # 提取 Tensor 数据部分\n",
    "print(\"Tensor shape:\", tensor_data.shape)"
   ]
  },
  {
   "cell_type": "code",
   "execution_count": 63,
   "id": "660bcfac-dc17-46df-870c-529084826d5e",
   "metadata": {},
   "outputs": [
    {
     "name": "stdout",
     "output_type": "stream",
     "text": [
      "LlamaForCausalLM(\n",
      "  (model): LlamaModel(\n",
      "    (embed_tokens): Embedding(128256, 4096)\n",
      "    (layers): ModuleList(\n",
      "      (0-31): 32 x LlamaDecoderLayer(\n",
      "        (self_attn): LlamaSdpaAttention(\n",
      "          (q_proj): Linear(in_features=4096, out_features=4096, bias=False)\n",
      "          (k_proj): Linear(in_features=4096, out_features=1024, bias=False)\n",
      "          (v_proj): Linear(in_features=4096, out_features=1024, bias=False)\n",
      "          (o_proj): Linear(in_features=4096, out_features=4096, bias=False)\n",
      "          (rotary_emb): LlamaRotaryEmbedding()\n",
      "        )\n",
      "        (mlp): LlamaMLP(\n",
      "          (gate_proj): Linear(in_features=4096, out_features=14336, bias=False)\n",
      "          (up_proj): Linear(in_features=4096, out_features=14336, bias=False)\n",
      "          (down_proj): Linear(in_features=14336, out_features=4096, bias=False)\n",
      "          (act_fn): SiLU()\n",
      "        )\n",
      "        (input_layernorm): LlamaRMSNorm((4096,), eps=1e-05)\n",
      "        (post_attention_layernorm): LlamaRMSNorm((4096,), eps=1e-05)\n",
      "      )\n",
      "    )\n",
      "    (norm): LlamaRMSNorm((4096,), eps=1e-05)\n",
      "    (rotary_emb): LlamaRotaryEmbedding()\n",
      "  )\n",
      "  (lm_head): Linear(in_features=4096, out_features=128256, bias=False)\n",
      ")\n"
     ]
    }
   ],
   "source": [
    "print(model)"
   ]
  },
  {
   "cell_type": "code",
   "execution_count": 64,
   "id": "55097b89-75e9-4caf-b8b0-df9af9542385",
   "metadata": {},
   "outputs": [
    {
     "name": "stdout",
     "output_type": "stream",
     "text": [
      "Number of attention heads: 32\n"
     ]
    }
   ],
   "source": [
    "# 假设 model 是已经加载的模型\n",
    "num_attention_heads = model.config.num_attention_heads\n",
    "print(f\"Number of attention heads: {num_attention_heads}\")"
   ]
  },
  {
   "cell_type": "code",
   "execution_count": 69,
   "id": "9c63b8ab-23f6-4af0-ae7f-174139c552be",
   "metadata": {},
   "outputs": [
    {
     "name": "stdout",
     "output_type": "stream",
     "text": [
      "Head 0 representation shape: torch.Size([1, 684, 128])\n",
      "Head 1 representation shape: torch.Size([1, 684, 128])\n",
      "Head 2 representation shape: torch.Size([1, 684, 128])\n",
      "Head 3 representation shape: torch.Size([1, 684, 128])\n",
      "Head 4 representation shape: torch.Size([1, 684, 128])\n",
      "Head 5 representation shape: torch.Size([1, 684, 128])\n",
      "Head 6 representation shape: torch.Size([1, 684, 128])\n",
      "Head 7 representation shape: torch.Size([1, 684, 128])\n",
      "Head 8 representation shape: torch.Size([1, 684, 128])\n",
      "Head 9 representation shape: torch.Size([1, 684, 128])\n",
      "Head 10 representation shape: torch.Size([1, 684, 128])\n",
      "Head 11 representation shape: torch.Size([1, 684, 128])\n",
      "Head 12 representation shape: torch.Size([1, 684, 128])\n",
      "Head 13 representation shape: torch.Size([1, 684, 128])\n",
      "Head 14 representation shape: torch.Size([1, 684, 128])\n",
      "Head 15 representation shape: torch.Size([1, 684, 128])\n",
      "Head 16 representation shape: torch.Size([1, 684, 128])\n",
      "Head 17 representation shape: torch.Size([1, 684, 128])\n",
      "Head 18 representation shape: torch.Size([1, 684, 128])\n",
      "Head 19 representation shape: torch.Size([1, 684, 128])\n",
      "Head 20 representation shape: torch.Size([1, 684, 128])\n",
      "Head 21 representation shape: torch.Size([1, 684, 128])\n",
      "Head 22 representation shape: torch.Size([1, 684, 128])\n",
      "Head 23 representation shape: torch.Size([1, 684, 128])\n",
      "Head 24 representation shape: torch.Size([1, 684, 128])\n",
      "Head 25 representation shape: torch.Size([1, 684, 128])\n",
      "Head 26 representation shape: torch.Size([1, 684, 128])\n",
      "Head 27 representation shape: torch.Size([1, 684, 128])\n",
      "Head 28 representation shape: torch.Size([1, 684, 128])\n",
      "Head 29 representation shape: torch.Size([1, 684, 128])\n",
      "Head 30 representation shape: torch.Size([1, 684, 128])\n",
      "Head 31 representation shape: torch.Size([1, 684, 128])\n"
     ]
    }
   ],
   "source": [
    "# Step 3: 获取每个 attention head 的表示\n",
    "# 通常 hidden_size = num_heads * head_dim\n",
    "hidden_size = representation.shape[-1]\n",
    "num_heads = model.config.num_attention_heads\n",
    "head_dim = hidden_size // num_heads\n",
    "\n",
    "# 重新 reshape 表示以分离每个 head\n",
    "# 转换形状为 (batch_size, seq_len, num_heads, head_dim)\n",
    "attention_heads = representation.view(\n",
    "    representation.size(0),  # batch_size\n",
    "    representation.size(1),  # seq_len\n",
    "    num_heads,                 # num_heads\n",
    "    head_dim                   # head_dim\n",
    ")\n",
    "\n",
    "# Step 4: 访问每个 head 的表示\n",
    "for i in range(num_heads):\n",
    "    head_representation = attention_heads[:, :, i, :]  # 取第 i 个 head\n",
    "    print(f\"Head {i} representation shape: {head_representation.shape}\")"
   ]
  },
  {
   "cell_type": "code",
   "execution_count": 78,
   "id": "5ed7e766-174d-4c74-944c-8fb838a4d215",
   "metadata": {},
   "outputs": [],
   "source": [
    "### all data"
   ]
  },
  {
   "cell_type": "code",
   "execution_count": 2,
   "id": "2a62dbd2-0f88-4de8-88a3-f3b76c8e6d26",
   "metadata": {},
   "outputs": [],
   "source": [
    "model_name = \"meta-llama/Llama-3.1-8B\""
   ]
  },
  {
   "cell_type": "code",
   "execution_count": 3,
   "id": "684ce769-1667-44b9-b8aa-13217638b352",
   "metadata": {},
   "outputs": [
    {
     "data": {
      "application/vnd.jupyter.widget-view+json": {
       "model_id": "a3caf14ab3904dc3ab8635543158ca39",
       "version_major": 2,
       "version_minor": 0
      },
      "text/plain": [
       "Loading checkpoint shards:   0%|          | 0/4 [00:00<?, ?it/s]"
      ]
     },
     "metadata": {},
     "output_type": "display_data"
    }
   ],
   "source": [
    "tokenizer = AutoTokenizer.from_pretrained(model_name)\n",
    "model = AutoModelForCausalLM.from_pretrained(model_name,device_map=\"cuda:0\",)\n",
    "# print(model.config.num_hidden_layers)"
   ]
  },
  {
   "cell_type": "code",
   "execution_count": 4,
   "id": "123fe802-bebb-4f3f-8d6e-540cc108ab97",
   "metadata": {},
   "outputs": [
    {
     "name": "stderr",
     "output_type": "stream",
     "text": [
      "900it [00:00, 112441.13it/s]\n",
      "900it [00:00, 116343.27it/s]\n"
     ]
    }
   ],
   "source": [
    "data_v = load_dataset('./data/verifiable.csv')\n",
    "data_nv = load_dataset('./data/non-verifiable.csv')"
   ]
  },
  {
   "cell_type": "code",
   "execution_count": 12,
   "id": "67fa962f-5578-4255-bbb1-c597af427533",
   "metadata": {},
   "outputs": [
    {
     "name": "stderr",
     "output_type": "stream",
     "text": [
      "  5%|▍         | 42/900 [00:26<09:11,  1.56it/s]\n"
     ]
    },
    {
     "ename": "OutOfMemoryError",
     "evalue": "CUDA out of memory. Tried to allocate 366.00 MiB. GPU 0 has a total capacity of 47.42 GiB of which 205.81 MiB is free. Process 2563219 has 47.00 GiB memory in use. Of the allocated memory 45.92 GiB is allocated by PyTorch, and 783.61 MiB is reserved by PyTorch but unallocated. If reserved but unallocated memory is large try setting PYTORCH_CUDA_ALLOC_CONF=expandable_segments:True to avoid fragmentation.  See documentation for Memory Management  (https://pytorch.org/docs/stable/notes/cuda.html#environment-variables)",
     "output_type": "error",
     "traceback": [
      "\u001b[0;31m---------------------------------------------------------------------------\u001b[0m",
      "\u001b[0;31mOutOfMemoryError\u001b[0m                          Traceback (most recent call last)",
      "Cell \u001b[0;32mIn[12], line 25\u001b[0m\n\u001b[1;32m     23\u001b[0m \u001b[38;5;28;01mwith\u001b[39;00m TraceDict(model, HEADS) \u001b[38;5;28;01mas\u001b[39;00m tracer:\n\u001b[1;32m     24\u001b[0m     input_ids \u001b[38;5;241m=\u001b[39m input_ids\u001b[38;5;241m.\u001b[39mto(\u001b[38;5;124m\"\u001b[39m\u001b[38;5;124mcuda\u001b[39m\u001b[38;5;124m\"\u001b[39m)\n\u001b[0;32m---> 25\u001b[0m     _ \u001b[38;5;241m=\u001b[39m \u001b[43mmodel\u001b[49m\u001b[43m(\u001b[49m\u001b[43minput_ids\u001b[49m\u001b[43m)\u001b[49m\n\u001b[1;32m     26\u001b[0m     rep \u001b[38;5;241m=\u001b[39m torch\u001b[38;5;241m.\u001b[39mstack([tracer[ln]\u001b[38;5;241m.\u001b[39moutput[\u001b[38;5;241m0\u001b[39m] \u001b[38;5;28;01mfor\u001b[39;00m ln \u001b[38;5;129;01min\u001b[39;00m HEADS])\n\u001b[1;32m     27\u001b[0m rep \u001b[38;5;241m=\u001b[39m rep[:,:,\u001b[38;5;241m-\u001b[39m\u001b[38;5;241m1\u001b[39m,:]\n",
      "File \u001b[0;32m/opt/conda/lib/python3.10/site-packages/torch/nn/modules/module.py:1511\u001b[0m, in \u001b[0;36mModule._wrapped_call_impl\u001b[0;34m(self, *args, **kwargs)\u001b[0m\n\u001b[1;32m   1509\u001b[0m     \u001b[38;5;28;01mreturn\u001b[39;00m \u001b[38;5;28mself\u001b[39m\u001b[38;5;241m.\u001b[39m_compiled_call_impl(\u001b[38;5;241m*\u001b[39margs, \u001b[38;5;241m*\u001b[39m\u001b[38;5;241m*\u001b[39mkwargs)  \u001b[38;5;66;03m# type: ignore[misc]\u001b[39;00m\n\u001b[1;32m   1510\u001b[0m \u001b[38;5;28;01melse\u001b[39;00m:\n\u001b[0;32m-> 1511\u001b[0m     \u001b[38;5;28;01mreturn\u001b[39;00m \u001b[38;5;28;43mself\u001b[39;49m\u001b[38;5;241;43m.\u001b[39;49m\u001b[43m_call_impl\u001b[49m\u001b[43m(\u001b[49m\u001b[38;5;241;43m*\u001b[39;49m\u001b[43margs\u001b[49m\u001b[43m,\u001b[49m\u001b[43m \u001b[49m\u001b[38;5;241;43m*\u001b[39;49m\u001b[38;5;241;43m*\u001b[39;49m\u001b[43mkwargs\u001b[49m\u001b[43m)\u001b[49m\n",
      "File \u001b[0;32m/opt/conda/lib/python3.10/site-packages/torch/nn/modules/module.py:1520\u001b[0m, in \u001b[0;36mModule._call_impl\u001b[0;34m(self, *args, **kwargs)\u001b[0m\n\u001b[1;32m   1515\u001b[0m \u001b[38;5;66;03m# If we don't have any hooks, we want to skip the rest of the logic in\u001b[39;00m\n\u001b[1;32m   1516\u001b[0m \u001b[38;5;66;03m# this function, and just call forward.\u001b[39;00m\n\u001b[1;32m   1517\u001b[0m \u001b[38;5;28;01mif\u001b[39;00m \u001b[38;5;129;01mnot\u001b[39;00m (\u001b[38;5;28mself\u001b[39m\u001b[38;5;241m.\u001b[39m_backward_hooks \u001b[38;5;129;01mor\u001b[39;00m \u001b[38;5;28mself\u001b[39m\u001b[38;5;241m.\u001b[39m_backward_pre_hooks \u001b[38;5;129;01mor\u001b[39;00m \u001b[38;5;28mself\u001b[39m\u001b[38;5;241m.\u001b[39m_forward_hooks \u001b[38;5;129;01mor\u001b[39;00m \u001b[38;5;28mself\u001b[39m\u001b[38;5;241m.\u001b[39m_forward_pre_hooks\n\u001b[1;32m   1518\u001b[0m         \u001b[38;5;129;01mor\u001b[39;00m _global_backward_pre_hooks \u001b[38;5;129;01mor\u001b[39;00m _global_backward_hooks\n\u001b[1;32m   1519\u001b[0m         \u001b[38;5;129;01mor\u001b[39;00m _global_forward_hooks \u001b[38;5;129;01mor\u001b[39;00m _global_forward_pre_hooks):\n\u001b[0;32m-> 1520\u001b[0m     \u001b[38;5;28;01mreturn\u001b[39;00m \u001b[43mforward_call\u001b[49m\u001b[43m(\u001b[49m\u001b[38;5;241;43m*\u001b[39;49m\u001b[43margs\u001b[49m\u001b[43m,\u001b[49m\u001b[43m \u001b[49m\u001b[38;5;241;43m*\u001b[39;49m\u001b[38;5;241;43m*\u001b[39;49m\u001b[43mkwargs\u001b[49m\u001b[43m)\u001b[49m\n\u001b[1;32m   1522\u001b[0m \u001b[38;5;28;01mtry\u001b[39;00m:\n\u001b[1;32m   1523\u001b[0m     result \u001b[38;5;241m=\u001b[39m \u001b[38;5;28;01mNone\u001b[39;00m\n",
      "File \u001b[0;32m/opt/conda/lib/python3.10/site-packages/transformers/models/llama/modeling_llama.py:1179\u001b[0m, in \u001b[0;36mLlamaForCausalLM.forward\u001b[0;34m(self, input_ids, attention_mask, position_ids, past_key_values, inputs_embeds, labels, use_cache, output_attentions, output_hidden_states, return_dict, cache_position, num_logits_to_keep, **kwargs)\u001b[0m\n\u001b[1;32m   1177\u001b[0m hidden_states \u001b[38;5;241m=\u001b[39m outputs[\u001b[38;5;241m0\u001b[39m]\n\u001b[1;32m   1178\u001b[0m \u001b[38;5;66;03m# Only compute necessary logits, and do not upcast them to float if we are not computing the loss\u001b[39;00m\n\u001b[0;32m-> 1179\u001b[0m logits \u001b[38;5;241m=\u001b[39m \u001b[38;5;28;43mself\u001b[39;49m\u001b[38;5;241;43m.\u001b[39;49m\u001b[43mlm_head\u001b[49m\u001b[43m(\u001b[49m\u001b[43mhidden_states\u001b[49m\u001b[43m[\u001b[49m\u001b[43m:\u001b[49m\u001b[43m,\u001b[49m\u001b[43m \u001b[49m\u001b[38;5;241;43m-\u001b[39;49m\u001b[43mnum_logits_to_keep\u001b[49m\u001b[43m:\u001b[49m\u001b[43m,\u001b[49m\u001b[43m \u001b[49m\u001b[43m:\u001b[49m\u001b[43m]\u001b[49m\u001b[43m)\u001b[49m\n\u001b[1;32m   1181\u001b[0m loss \u001b[38;5;241m=\u001b[39m \u001b[38;5;28;01mNone\u001b[39;00m\n\u001b[1;32m   1182\u001b[0m \u001b[38;5;28;01mif\u001b[39;00m labels \u001b[38;5;129;01mis\u001b[39;00m \u001b[38;5;129;01mnot\u001b[39;00m \u001b[38;5;28;01mNone\u001b[39;00m:\n",
      "File \u001b[0;32m/opt/conda/lib/python3.10/site-packages/torch/nn/modules/module.py:1511\u001b[0m, in \u001b[0;36mModule._wrapped_call_impl\u001b[0;34m(self, *args, **kwargs)\u001b[0m\n\u001b[1;32m   1509\u001b[0m     \u001b[38;5;28;01mreturn\u001b[39;00m \u001b[38;5;28mself\u001b[39m\u001b[38;5;241m.\u001b[39m_compiled_call_impl(\u001b[38;5;241m*\u001b[39margs, \u001b[38;5;241m*\u001b[39m\u001b[38;5;241m*\u001b[39mkwargs)  \u001b[38;5;66;03m# type: ignore[misc]\u001b[39;00m\n\u001b[1;32m   1510\u001b[0m \u001b[38;5;28;01melse\u001b[39;00m:\n\u001b[0;32m-> 1511\u001b[0m     \u001b[38;5;28;01mreturn\u001b[39;00m \u001b[38;5;28;43mself\u001b[39;49m\u001b[38;5;241;43m.\u001b[39;49m\u001b[43m_call_impl\u001b[49m\u001b[43m(\u001b[49m\u001b[38;5;241;43m*\u001b[39;49m\u001b[43margs\u001b[49m\u001b[43m,\u001b[49m\u001b[43m \u001b[49m\u001b[38;5;241;43m*\u001b[39;49m\u001b[38;5;241;43m*\u001b[39;49m\u001b[43mkwargs\u001b[49m\u001b[43m)\u001b[49m\n",
      "File \u001b[0;32m/opt/conda/lib/python3.10/site-packages/torch/nn/modules/module.py:1520\u001b[0m, in \u001b[0;36mModule._call_impl\u001b[0;34m(self, *args, **kwargs)\u001b[0m\n\u001b[1;32m   1515\u001b[0m \u001b[38;5;66;03m# If we don't have any hooks, we want to skip the rest of the logic in\u001b[39;00m\n\u001b[1;32m   1516\u001b[0m \u001b[38;5;66;03m# this function, and just call forward.\u001b[39;00m\n\u001b[1;32m   1517\u001b[0m \u001b[38;5;28;01mif\u001b[39;00m \u001b[38;5;129;01mnot\u001b[39;00m (\u001b[38;5;28mself\u001b[39m\u001b[38;5;241m.\u001b[39m_backward_hooks \u001b[38;5;129;01mor\u001b[39;00m \u001b[38;5;28mself\u001b[39m\u001b[38;5;241m.\u001b[39m_backward_pre_hooks \u001b[38;5;129;01mor\u001b[39;00m \u001b[38;5;28mself\u001b[39m\u001b[38;5;241m.\u001b[39m_forward_hooks \u001b[38;5;129;01mor\u001b[39;00m \u001b[38;5;28mself\u001b[39m\u001b[38;5;241m.\u001b[39m_forward_pre_hooks\n\u001b[1;32m   1518\u001b[0m         \u001b[38;5;129;01mor\u001b[39;00m _global_backward_pre_hooks \u001b[38;5;129;01mor\u001b[39;00m _global_backward_hooks\n\u001b[1;32m   1519\u001b[0m         \u001b[38;5;129;01mor\u001b[39;00m _global_forward_hooks \u001b[38;5;129;01mor\u001b[39;00m _global_forward_pre_hooks):\n\u001b[0;32m-> 1520\u001b[0m     \u001b[38;5;28;01mreturn\u001b[39;00m \u001b[43mforward_call\u001b[49m\u001b[43m(\u001b[49m\u001b[38;5;241;43m*\u001b[39;49m\u001b[43margs\u001b[49m\u001b[43m,\u001b[49m\u001b[43m \u001b[49m\u001b[38;5;241;43m*\u001b[39;49m\u001b[38;5;241;43m*\u001b[39;49m\u001b[43mkwargs\u001b[49m\u001b[43m)\u001b[49m\n\u001b[1;32m   1522\u001b[0m \u001b[38;5;28;01mtry\u001b[39;00m:\n\u001b[1;32m   1523\u001b[0m     result \u001b[38;5;241m=\u001b[39m \u001b[38;5;28;01mNone\u001b[39;00m\n",
      "File \u001b[0;32m/opt/conda/lib/python3.10/site-packages/torch/nn/modules/linear.py:116\u001b[0m, in \u001b[0;36mLinear.forward\u001b[0;34m(self, input)\u001b[0m\n\u001b[1;32m    115\u001b[0m \u001b[38;5;28;01mdef\u001b[39;00m \u001b[38;5;21mforward\u001b[39m(\u001b[38;5;28mself\u001b[39m, \u001b[38;5;28minput\u001b[39m: Tensor) \u001b[38;5;241m-\u001b[39m\u001b[38;5;241m>\u001b[39m Tensor:\n\u001b[0;32m--> 116\u001b[0m     \u001b[38;5;28;01mreturn\u001b[39;00m \u001b[43mF\u001b[49m\u001b[38;5;241;43m.\u001b[39;49m\u001b[43mlinear\u001b[49m\u001b[43m(\u001b[49m\u001b[38;5;28;43minput\u001b[39;49m\u001b[43m,\u001b[49m\u001b[43m \u001b[49m\u001b[38;5;28;43mself\u001b[39;49m\u001b[38;5;241;43m.\u001b[39;49m\u001b[43mweight\u001b[49m\u001b[43m,\u001b[49m\u001b[43m \u001b[49m\u001b[38;5;28;43mself\u001b[39;49m\u001b[38;5;241;43m.\u001b[39;49m\u001b[43mbias\u001b[49m\u001b[43m)\u001b[49m\n",
      "\u001b[0;31mOutOfMemoryError\u001b[0m: CUDA out of memory. Tried to allocate 366.00 MiB. GPU 0 has a total capacity of 47.42 GiB of which 205.81 MiB is free. Process 2563219 has 47.00 GiB memory in use. Of the allocated memory 45.92 GiB is allocated by PyTorch, and 783.61 MiB is reserved by PyTorch but unallocated. If reserved but unallocated memory is large try setting PYTORCH_CUDA_ALLOC_CONF=expandable_segments:True to avoid fragmentation.  See documentation for Memory Management  (https://pytorch.org/docs/stable/notes/cuda.html#environment-variables)"
     ]
    }
   ],
   "source": [
    "hidden_size = 4096\n",
    "num_heads = model.config.num_attention_heads # 32\n",
    "head_dim = hidden_size // num_heads # 128\n",
    "\n",
    "representation_v = []\n",
    "representation_nv = []\n",
    "\n",
    "\n",
    "for data, representation in [[data_v, representation_v], [data_nv, representation_nv]]:\n",
    "    x=0\n",
    "    for inp in tqdm(data):\n",
    "        torch.cuda.empty_cache()\n",
    "        with torch.no_grad():\n",
    "            head_representation = []\n",
    "            x+=1\n",
    "            if x>100:\n",
    "                break\n",
    "            input_ids = tokenizer(inp, return_tensors=\"pt\").input_ids\n",
    "            \n",
    "            HEADS = [f\"model.layers.{i}.self_attn\" for i in range(model.config.num_hidden_layers)]\n",
    "\n",
    "            # with Trace(model, \"model.layers.0.self_attn\") as ret:\n",
    "            with TraceDict(model, HEADS) as tracer:\n",
    "                input_ids = input_ids.to(\"cuda\")\n",
    "                _ = model(input_ids)\n",
    "                rep = torch.stack([tracer[ln].output[0] for ln in HEADS])\n",
    "            rep = rep[:,:,-1,:]\n",
    "        \n",
    "            attention_heads = rep.view(\n",
    "                rep.size(0),  # batch_size\n",
    "                rep.size(1),  # seq_len\n",
    "                num_heads,    # num_heads\n",
    "                head_dim      # head_dim\n",
    "            )\n",
    "            \n",
    "            # Step 4: 访问每个 head 的表示\n",
    "            for i in range(num_heads):\n",
    "                head_rep = attention_heads[:, :, i, :]  # 取第 i 个 head\n",
    "                # print(f\"Head {i} representation shape: {head_rep.shape}\")\n",
    "                head_representation.append(head_rep)\n",
    "            \n",
    "            representation.append(head_representation)\n",
    "\n",
    "representation_tensor_v = [torch.stack([head_rep.clone().detach() for head_rep in layer_rep]) for layer_rep in representation_v]\n",
    "representation_array_v = np.array([layer_rep.cpu().numpy() for layer_rep in representation_tensor_v])\n",
    "print(representation_array_v.shape)\n",
    "### item, head, layer, parameter\n",
    "\n",
    "representation_tensor_nv = [torch.stack([head_rep.clone().detach() for head_rep in layer_rep]) for layer_rep in representation_nv]\n",
    "representation_array_nv = np.array([layer_rep.cpu().numpy() for layer_rep in representation_tensor_nv])\n",
    "print(representation_array_nv.shape)\n",
    "### item, head, layer, parameter"
   ]
  },
  {
   "cell_type": "code",
   "execution_count": 9,
   "id": "663e7547-f3b1-42d4-ac59-80d8d7c00c07",
   "metadata": {},
   "outputs": [],
   "source": [
    "labels_v = np.ones(representation_array_v.shape[0])\n",
    "labels_nv = np.zeros(representation_array_nv.shape[0])"
   ]
  },
  {
   "cell_type": "code",
   "execution_count": 10,
   "id": "bc915464-4c0f-4fde-84e4-07f92ebe52bf",
   "metadata": {},
   "outputs": [
    {
     "name": "stdout",
     "output_type": "stream",
     "text": [
      "[1. 1. 1. 1. 1. 1. 1. 1. 1. 1. 1. 1. 1. 1. 1. 1. 1. 1. 1. 1.]\n",
      "[0. 0. 0. 0. 0. 0. 0. 0. 0. 0. 0. 0. 0. 0. 0. 0. 0. 0. 0. 0.]\n"
     ]
    }
   ],
   "source": [
    "print(labels_v)\n",
    "print(labels_nv)"
   ]
  },
  {
   "cell_type": "code",
   "execution_count": 11,
   "id": "230a6afa-70a2-4c2d-a816-2d9487830e19",
   "metadata": {},
   "outputs": [
    {
     "data": {
      "image/png": "[encoded data removed]",
      "text/plain": [
       "<Figure size 1000x800 with 2 Axes>"
      ]
     },
     "metadata": {},
     "output_type": "display_data"
    }
   ],
   "source": [
    "# 假设以下数据已经定义：representation_array_v, representation_array_nv, labels_v, labels_nv\n",
    "num_layers = model.config.num_hidden_layers\n",
    "num_heads = model.config.num_attention_heads\n",
    "\n",
    "# 创建一个矩阵存储每个 layer 和 head 的 accuracy\n",
    "accuracy_matrix = np.zeros((num_layers, num_heads))\n",
    "\n",
    "# 遍历每个 layer 和 head，计算 accuracy\n",
    "for i in range(num_layers):\n",
    "    for j in range(num_heads):\n",
    "        rep_v_x = representation_array_v[:, j, i, 0, :]\n",
    "        rep_nv_x = representation_array_nv[:, j, i, 0, :]\n",
    "\n",
    "        X = np.concatenate((rep_v_x, rep_nv_x), axis=0)\n",
    "        y = np.concatenate((labels_v, labels_nv), axis=0)\n",
    "\n",
    "        X_train, X_test, y_train, y_test = train_test_split(X, y, test_size=0.5, random_state=42)\n",
    "\n",
    "        # Logistic Regression\n",
    "        classifier = LogisticRegression(penalty='l2', max_iter=1000)\n",
    "        classifier.fit(X_train, y_train)\n",
    "        y_pred = classifier.predict(X_test)\n",
    "        accuracy = accuracy_score(y_test, y_pred)\n",
    "\n",
    "        # 存储到矩阵中\n",
    "        accuracy_matrix[i, j] = accuracy\n",
    "\n",
    "# 绘制热力图\n",
    "plt.figure(figsize=(10, 8))\n",
    "plt.imshow(accuracy_matrix, cmap='viridis', aspect='auto')\n",
    "plt.colorbar(label='Accuracy')\n",
    "plt.title('Accuracy by Layer and Head')\n",
    "plt.xlabel('Head')\n",
    "plt.ylabel('Layer')\n",
    "plt.xticks(np.arange(num_heads))\n",
    "plt.yticks(np.arange(num_layers))\n",
    "plt.show()"
   ]
  },
  {
   "cell_type": "code",
   "execution_count": 13,
   "id": "f04b72bc-29b7-4d87-b286-859031f51bac",
   "metadata": {},
   "outputs": [
    {
     "data": {
      "image/png": "[encoded data removed]",
      "text/plain": [
       "<Figure size 640x480 with 1 Axes>"
      ]
     },
     "metadata": {},
     "output_type": "display_data"
    }
   ],
   "source": [
    "from sklearn.linear_model import LogisticRegression\n",
    "from sklearn.metrics import accuracy_score\n",
    "from sklearn.model_selection import train_test_split\n",
    "import numpy as np\n",
    "import matplotlib.pyplot as plt\n",
    "\n",
    "# 假设以下数据已经定义\n",
    "# representation_array_v, representation_array_nv, labels_v, labels_nv\n",
    "\n",
    "# 定义需要的层和head\n",
    "target_layer = 13  # 第13层 (从0开始索引)\n",
    "target_head = 31  # 第31个head (从0开始索引)\n",
    "\n",
    "# 提取目标层和head的表示\n",
    "rep_v_x = representation_array_v[:, target_head, target_layer, 0, :]\n",
    "rep_nv_x = representation_array_nv[:, target_head, target_layer, 0, :]\n",
    "\n",
    "# 合并数据和标签\n",
    "X = np.concatenate((rep_v_x, rep_nv_x), axis=0)\n",
    "y = np.concatenate((labels_v, labels_nv), axis=0)\n",
    "\n",
    "# 划分训练集和测试集\n",
    "X_train, X_test, y_train, y_test = train_test_split(X, y, test_size=0.5, random_state=42)\n",
    "\n",
    "# Logistic Regression\n",
    "classifier = LogisticRegression(penalty='l2', max_iter=1000)\n",
    "classifier.fit(X_train, y_train)\n",
    "\n",
    "# 获取投影方向\n",
    "projection_direction = classifier.coef_[0]  # 分类器权重作为投影方向\n",
    "\n",
    "# 投影数据到该方向\n",
    "projections = X @ projection_direction\n",
    "\n",
    "# 分别获取真实和错误样本的投影\n",
    "projections_v = projections[:len(rep_v_x)]\n",
    "projections_nv = projections[len(rep_v_x):]\n",
    "\n",
    "# 绘制核密度估计图\n",
    "import seaborn as sns\n",
    "\n",
    "sns.kdeplot(projections_v, label=\"Truthful\", color=\"blue\", fill=True)\n",
    "sns.kdeplot(projections_nv, label=\"False\", color=\"orange\", fill=True)\n",
    "\n",
    "plt.xlabel(\"Projection on the Truthful Direction\")\n",
    "plt.ylabel(\"Density\")\n",
    "plt.title(f\"Layer {target_layer}, Head {target_head}: Projection Density\")\n",
    "plt.legend()\n",
    "plt.show()\n"
   ]
  },
  {
   "cell_type": "code",
   "execution_count": 14,
   "id": "f2a8c7f5-f8e3-402b-b9ce-c01fea770ca1",
   "metadata": {},
   "outputs": [
    {
     "name": "stderr",
     "output_type": "stream",
     "text": [
      "/tmp/ipykernel_7510/3274290236.py:58: UserWarning: No artists with labels found to put in legend.  Note that artists whose label start with an underscore are ignored when legend() is called with no argument.\n",
      "  plt.legend()\n"
     ]
    },
    {
     "data": {
      "image/png": "[encoded data removed]",
      "text/plain": [
       "<Figure size 640x480 with 1 Axes>"
      ]
     },
     "metadata": {},
     "output_type": "display_data"
    }
   ],
   "source": [
    "from sklearn.decomposition import PCA\n",
    "from sklearn.linear_model import LogisticRegression\n",
    "from sklearn.metrics import accuracy_score\n",
    "from sklearn.model_selection import train_test_split\n",
    "import numpy as np\n",
    "import seaborn as sns\n",
    "import matplotlib.pyplot as plt\n",
    "\n",
    "# 假设以下数据已经定义\n",
    "# representation_array_v, representation_array_nv, labels_v, labels_nv\n",
    "\n",
    "# 定义需要的层和head\n",
    "target_layer = 13  # 第13层 (从0开始索引)\n",
    "target_head = 31  # 第31个head (从0开始索引)\n",
    "\n",
    "# 提取目标层和head的表示\n",
    "rep_v_x = representation_array_v[:, target_head, target_layer, 0, :]\n",
    "rep_nv_x = representation_array_nv[:, target_head, target_layer, 0, :]\n",
    "\n",
    "# 合并数据和标签\n",
    "X = np.concatenate((rep_v_x, rep_nv_x), axis=0)\n",
    "y = np.concatenate((labels_v, labels_nv), axis=0)\n",
    "\n",
    "# 划分训练集和测试集\n",
    "X_train, X_test, y_train, y_test = train_test_split(X, y, test_size=0.5, random_state=42)\n",
    "\n",
    "# Logistic Regression\n",
    "classifier = LogisticRegression(penalty='l2', max_iter=1000)\n",
    "classifier.fit(X_train, y_train)\n",
    "\n",
    "# 获取第一个投影方向（基于逻辑回归权重）\n",
    "direction_1 = classifier.coef_[0]  # 第一个投影方向\n",
    "\n",
    "# 找到第二个投影方向（使用 PCA）\n",
    "# 将第一方向的影响去除\n",
    "X_residual = X - np.outer(X @ direction_1, direction_1)  # 去掉与第一方向的投影部分\n",
    "pca = PCA(n_components=1)  # 只保留一个主成分\n",
    "pca.fit(X_residual)\n",
    "direction_2 = pca.components_[0]  # 第二个投影方向\n",
    "\n",
    "# 投影到两个方向\n",
    "projection_1 = X @ direction_1  # 投影到第一个方向\n",
    "projection_2 = X @ direction_2  # 投影到第二个方向\n",
    "\n",
    "# 分别获取真实和错误样本的投影\n",
    "proj_v_1 = projection_1[:len(rep_v_x)]\n",
    "proj_nv_1 = projection_1[len(rep_v_x):]\n",
    "proj_v_2 = projection_2[:len(rep_v_x)]\n",
    "proj_nv_2 = projection_2[len(rep_v_x):]\n",
    "\n",
    "# 绘制二维核密度估计图\n",
    "sns.kdeplot(x=proj_v_1, y=proj_v_2, label=\"Truthful\", color=\"blue\", fill=True)\n",
    "sns.kdeplot(x=proj_nv_1, y=proj_nv_2, label=\"False\", color=\"orange\", fill=True)\n",
    "\n",
    "plt.xlabel(\"Projection on the 1st Direction\")\n",
    "plt.ylabel(\"Projection on the 2nd Direction\")\n",
    "plt.title(f\"Layer {target_layer}, Head {target_head}: Projection Density\")\n",
    "plt.legend()\n",
    "plt.show()\n"
   ]
  },
  {
   "cell_type": "code",
   "execution_count": null,
   "id": "614ff138-d571-482c-b763-3d4f24bf4698",
   "metadata": {},
   "outputs": [],
   "source": []
  }
 ],
 "metadata": {
  "kernelspec": {
   "display_name": "Python 3 (ipykernel)",
   "language": "python",
   "name": "python3"
  },
  "language_info": {
   "codemirror_mode": {
    "name": "ipython",
    "version": 3
   },
   "file_extension": ".py",
   "mimetype": "text/x-python",
   "name": "python",
   "nbconvert_exporter": "python",
   "pygments_lexer": "ipython3",
   "version": "3.10.13"
  }
 },
 "nbformat": 4,
 "nbformat_minor": 5
}
